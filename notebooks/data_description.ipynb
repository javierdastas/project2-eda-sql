{
 "cells": [
  {
   "cell_type": "markdown",
   "id": "ccbc78e8-d6c1-4163-8647-c16a74396942",
   "metadata": {},
   "source": [
    "# Retail Data\n",
    "### Historical sales data from 45 stores\n",
    "\n",
    "## Content\n",
    "The Retail Data provide an historical sales data for 45 stores located in different regions - each store contains a number of departments. The company also runs several promotional markdown events throughout the year. These markdowns precede prominent holidays, the four largest of which are the Super Bowl, Labor Day, Thanksgiving, and Christmas. The weeks including these holidays are weighted five times higher in the evaluation than non-holiday weeks.\n",
    "\n",
    "## Stores\n",
    "Anonymized information about the 45 stores, indicating the type and size of store\n",
    "- Store - the store number\n",
    "- Type - Type of store\n",
    "- Size - Size of the store\n",
    "\n",
    "## Features\n",
    "Contains additional data related to the store, department, and regional activity for the given dates.\n",
    "\n",
    "- Store - the store number\n",
    "- Date - the week\n",
    "- Temperature - average temperature in the region\n",
    "- Fuel_Price - cost of fuel in the region\n",
    "- MarkDown1-5 - anonymized data related to promotional markdowns. MarkDown data is only available after Nov 2011, and is not available for all stores all the time. Any missing value is marked with an NA\n",
    "- CPI - the consumer price index\n",
    "- Unemployment - the unemployment rate\n",
    "- IsHoliday - whether the week is a special holiday week\n",
    "\n",
    "## Sales\n",
    "Historical sales data, which covers to 2010-02-05 to 2012-11-01. Within this tab you will find the following fields:\n",
    "\n",
    "- Store - the store number\n",
    "- Dept - the department number\n",
    "- Date - the week\n",
    "- Weekly_Sales -  sales for the given department in the given store\n",
    "- IsHoliday - whether the week is a special holiday week"
   ]
  }
 ],
 "metadata": {
  "kernelspec": {
   "display_name": "Python 3 (ipykernel)",
   "language": "python",
   "name": "python3"
  },
  "language_info": {
   "codemirror_mode": {
    "name": "ipython",
    "version": 3
   },
   "file_extension": ".py",
   "mimetype": "text/x-python",
   "name": "python",
   "nbconvert_exporter": "python",
   "pygments_lexer": "ipython3",
   "version": "3.12.7"
  }
 },
 "nbformat": 4,
 "nbformat_minor": 5
}
